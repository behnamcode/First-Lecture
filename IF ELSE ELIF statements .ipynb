{
 "cells": [
  {
   "cell_type": "code",
   "execution_count": 4,
   "metadata": {},
   "outputs": [
    {
     "name": "stdout",
     "output_type": "stream",
     "text": [
      "Every Thing Is OK!\n"
     ]
    }
   ],
   "source": [
    "hungry = False\n",
    "if hungry: \n",
    "    print('feed me')\n",
    "else:\n",
    "    print('Every Thing Is OK!')"
   ]
  },
  {
   "cell_type": "code",
   "execution_count": 37,
   "metadata": {},
   "outputs": [
    {
     "name": "stdout",
     "output_type": "stream",
     "text": [
      "Current location is in the Shop\n"
     ]
    }
   ],
   "source": [
    "location = 'Shop'\n",
    "if location == 'Shop':\n",
    "    print(f'Current location is in the {location}')\n",
    "elif location == 'Bank':\n",
    "    print(f'Current Location is in the {location}')\n",
    "else:\n",
    "    print('See You next Time')"
   ]
  },
  {
   "cell_type": "markdown",
   "metadata": {},
   "source": [
    "FOR LOOPS\n"
   ]
  },
  {
   "cell_type": "code",
   "execution_count": 8,
   "metadata": {},
   "outputs": [],
   "source": [
    "my_list = [1,2,3,4,5,6,7,8,9,10]"
   ]
  },
  {
   "cell_type": "code",
   "execution_count": 38,
   "metadata": {},
   "outputs": [
    {
     "name": "stdout",
     "output_type": "stream",
     "text": [
      "10\n",
      "9\n",
      "8\n",
      "7\n",
      "6\n",
      "5\n",
      "4\n",
      "3\n",
      "2\n",
      "1\n"
     ]
    }
   ],
   "source": [
    "for num in my_list[::-1]:\n",
    "    print(num)"
   ]
  },
  {
   "cell_type": "code",
   "execution_count": 39,
   "metadata": {},
   "outputs": [
    {
     "name": "stdout",
     "output_type": "stream",
     "text": [
      "1 is an Odd Number\n",
      "2 is a Even Number\n",
      "3 is an Odd Number\n",
      "4 is a Even Number\n",
      "5 is an Odd Number\n",
      "6 is a Even Number\n",
      "7 is an Odd Number\n",
      "8 is a Even Number\n",
      "9 is an Odd Number\n",
      "10 is a Even Number\n"
     ]
    }
   ],
   "source": [
    "for num in my_list:\n",
    "    # Check for even\n",
    "    if num % 2 == 0:\n",
    "        print(f'{num} is a Even Number')\n",
    "    else :\n",
    "        print(f'{num} is an Odd Number')"
   ]
  },
  {
   "cell_type": "code",
   "execution_count": 21,
   "metadata": {},
   "outputs": [
    {
     "name": "stdout",
     "output_type": "stream",
     "text": [
      "55\n"
     ]
    }
   ],
   "source": [
    "list_sum = 0\n",
    "\n",
    "for num in my_list:\n",
    "    list_sum = list_sum + num\n",
    "    \n",
    "print(list_sum)"
   ]
  },
  {
   "cell_type": "markdown",
   "metadata": {},
   "source": [
    "Tuples And itteration \n"
   ]
  },
  {
   "cell_type": "code",
   "execution_count": 22,
   "metadata": {},
   "outputs": [
    {
     "name": "stdout",
     "output_type": "stream",
     "text": [
      "(1, 2)\n",
      "('w', 'e')\n",
      "('#', 0)\n"
     ]
    }
   ],
   "source": [
    "mt = [(1,2),('w','e'),('#',0)]\n",
    "for items in mt:\n",
    "    print(items)"
   ]
  },
  {
   "cell_type": "code",
   "execution_count": 23,
   "metadata": {},
   "outputs": [
    {
     "name": "stdout",
     "output_type": "stream",
     "text": [
      "1\n",
      "2\n",
      "w\n",
      "e\n",
      "#\n",
      "0\n"
     ]
    }
   ],
   "source": [
    "for (a,b) in mt:\n",
    "    print(a)\n",
    "    print(b)\n",
    "    "
   ]
  },
  {
   "cell_type": "markdown",
   "metadata": {},
   "source": [
    "Dictionary "
   ]
  },
  {
   "cell_type": "code",
   "execution_count": 34,
   "metadata": {},
   "outputs": [
    {
     "name": "stdout",
     "output_type": "stream",
     "text": [
      "k1\n",
      "1\n",
      "k2\n",
      "2\n",
      "k3\n",
      "3\n"
     ]
    }
   ],
   "source": [
    "d = {'k1':1,\"k2\":2,'k3':3}\n",
    "for (key,val) in d.items():\n",
    "    print(key)\n",
    "    print(val)"
   ]
  },
  {
   "cell_type": "code",
   "execution_count": 35,
   "metadata": {},
   "outputs": [
    {
     "name": "stdout",
     "output_type": "stream",
     "text": [
      "Hello Jhon\n",
      "Hello Frank\n",
      "Hello Margaret\n"
     ]
    }
   ],
   "source": [
    "s = {'a1':'Jhon','a2':'Frank','a3':'Margaret'}\n",
    "\n",
    "for name in s.values():\n",
    "    print(f'Hello {name}')"
   ]
  },
  {
   "cell_type": "markdown",
   "metadata": {},
   "source": [
    "While\n"
   ]
  },
  {
   "cell_type": "code",
   "execution_count": 3,
   "metadata": {},
   "outputs": [
    {
     "name": "stdout",
     "output_type": "stream",
     "text": [
      "The current value of x is 0\n",
      "The current value of x is 1\n",
      "The current value of x is 2\n",
      "The current value of x is 3\n",
      "The current value of x is 4\n",
      "Loop ends here!\n"
     ]
    }
   ],
   "source": [
    " x = 0\n",
    "while x < 5:\n",
    "    print(f'The current value of x is {x}')\n",
    "    x= x+1\n",
    "else:\n",
    "    print('Loop ends here!')"
   ]
  },
  {
   "cell_type": "markdown",
   "metadata": {},
   "source": [
    "break,continue,pass\n"
   ]
  },
  {
   "cell_type": "code",
   "execution_count": 4,
   "metadata": {},
   "outputs": [
    {
     "name": "stdout",
     "output_type": "stream",
     "text": [
      "Pass fills the gap,cause after : we must have something to avoid Error!\n"
     ]
    }
   ],
   "source": [
    "x = [1,2,3]\n",
    "for items in x :\n",
    "    pass\n",
    "print('Pass fills the gap,cause after : we must have something to avoid Error!')"
   ]
  },
  {
   "cell_type": "code",
   "execution_count": 5,
   "metadata": {},
   "outputs": [],
   "source": [
    "mystring= 'Behnam'"
   ]
  },
  {
   "cell_type": "code",
   "execution_count": 17,
   "metadata": {},
   "outputs": [
    {
     "name": "stdout",
     "output_type": "stream",
     "text": [
      "B\n",
      "h\n",
      "n\n",
      "a\n",
      "m\n"
     ]
    }
   ],
   "source": [
    "for letters in mystring:\n",
    "    if letters == 'e':\n",
    "        continue\n",
    "    print(f'{letters}')"
   ]
  },
  {
   "cell_type": "code",
   "execution_count": 21,
   "metadata": {},
   "outputs": [
    {
     "name": "stdout",
     "output_type": "stream",
     "text": [
      "manheB\n"
     ]
    }
   ],
   "source": [
    "print(mystring[::-1])"
   ]
  },
  {
   "cell_type": "code",
   "execution_count": 26,
   "metadata": {},
   "outputs": [
    {
     "name": "stdout",
     "output_type": "stream",
     "text": [
      "0\n",
      "1\n"
     ]
    }
   ],
   "source": [
    "x = 0\n",
    "while x < 5 :\n",
    "    if x == 2:\n",
    "        break    \n",
    "    print(x)\n",
    "    x += 1"
   ]
  },
  {
   "cell_type": "code",
   "execution_count": null,
   "metadata": {},
   "outputs": [],
   "source": []
  }
 ],
 "metadata": {
  "kernelspec": {
   "display_name": "Python 3",
   "language": "python",
   "name": "python3"
  },
  "language_info": {
   "codemirror_mode": {
    "name": "ipython",
    "version": 3
   },
   "file_extension": ".py",
   "mimetype": "text/x-python",
   "name": "python",
   "nbconvert_exporter": "python",
   "pygments_lexer": "ipython3",
   "version": "3.8.3"
  }
 },
 "nbformat": 4,
 "nbformat_minor": 4
}
